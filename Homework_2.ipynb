{
 "cells": [
  {
   "cell_type": "code",
   "execution_count": 1,
   "id": "52d4b172-bc3f-41c7-b8bb-01c88afb1daf",
   "metadata": {},
   "outputs": [],
   "source": [
    "import numpy as np"
   ]
  },
  {
   "cell_type": "markdown",
   "id": "c6a5d18e-b656-452a-9f2d-1c2b59372bed",
   "metadata": {},
   "source": [
    "1. Создайте массив 10х10, заполненный в центре нулями, а по границе единицами."
   ]
  },
  {
   "cell_type": "code",
   "execution_count": 11,
   "id": "1d13eb57-d813-4fdf-b694-809c936e9f8d",
   "metadata": {},
   "outputs": [
    {
     "name": "stdout",
     "output_type": "stream",
     "text": [
      "[[1. 1. 1. 1. 1. 1. 1. 1. 1. 1.]\n",
      " [1. 0. 0. 0. 0. 0. 0. 0. 0. 1.]\n",
      " [1. 0. 0. 0. 0. 0. 0. 0. 0. 1.]\n",
      " [1. 0. 0. 0. 0. 0. 0. 0. 0. 1.]\n",
      " [1. 0. 0. 0. 0. 0. 0. 0. 0. 1.]\n",
      " [1. 0. 0. 0. 0. 0. 0. 0. 0. 1.]\n",
      " [1. 0. 0. 0. 0. 0. 0. 0. 0. 1.]\n",
      " [1. 0. 0. 0. 0. 0. 0. 0. 0. 1.]\n",
      " [1. 0. 0. 0. 0. 0. 0. 0. 0. 1.]\n",
      " [1. 1. 1. 1. 1. 1. 1. 1. 1. 1.]]\n"
     ]
    }
   ],
   "source": [
    "print(np.pad(np.zeros((8,8)), 1, mode='constant', constant_values=1))"
   ]
  },
  {
   "cell_type": "markdown",
   "id": "734e7b50-8b13-48ee-ad79-5a7b6deae757",
   "metadata": {},
   "source": [
    "2. Создайте массив 8х8, заполненный 0 и 1 в шахматном порядке."
   ]
  },
  {
   "cell_type": "code",
   "execution_count": 14,
   "id": "8fbeea6f-4ac3-4a95-8e31-1da8a37428cb",
   "metadata": {},
   "outputs": [
    {
     "name": "stdout",
     "output_type": "stream",
     "text": [
      "[[0 1 0 1 0 1 0 1]\n",
      " [0 1 0 1 0 1 0 1]\n",
      " [0 1 0 1 0 1 0 1]\n",
      " [0 1 0 1 0 1 0 1]\n",
      " [0 1 0 1 0 1 0 1]\n",
      " [0 1 0 1 0 1 0 1]\n",
      " [0 1 0 1 0 1 0 1]\n",
      " [0 1 0 1 0 1 0 1]]\n"
     ]
    }
   ],
   "source": [
    "print(np.tile(np.array([[0,1], [0,1]]), (4,4)))"
   ]
  },
  {
   "cell_type": "markdown",
   "id": "bf760062-05d7-4048-bb49-072a820f3b13",
   "metadata": {},
   "source": [
    "3. Создайте матрицу 5x5 со значениями 1,2,3,4 под главной диагональю. Остальные значения - нули"
   ]
  },
  {
   "cell_type": "code",
   "execution_count": 15,
   "id": "174ad7e4-25f0-4035-addb-d8a76c610843",
   "metadata": {},
   "outputs": [
    {
     "name": "stdout",
     "output_type": "stream",
     "text": [
      "[[0 0 0 0 0]\n",
      " [1 0 0 0 0]\n",
      " [0 2 0 0 0]\n",
      " [0 0 3 0 0]\n",
      " [0 0 0 4 0]]\n"
     ]
    }
   ],
   "source": [
    "print(np.diagflat([1, 2, 3, 4], k=-1))"
   ]
  },
  {
   "cell_type": "markdown",
   "id": "5c8c6d41-7dbe-4cd2-abc2-9657c0262766",
   "metadata": {},
   "source": [
    "4. Создайте случайный массив 5х5 и нормируйте его так, чтобы среднее вдоль каждой строки было равно нулю."
   ]
  },
  {
   "cell_type": "code",
   "execution_count": 43,
   "id": "25614044-4ac4-4d06-b7da-198ff20aa611",
   "metadata": {},
   "outputs": [
    {
     "name": "stdout",
     "output_type": "stream",
     "text": [
      "[[-0.13665058 -0.13748109  0.21686617  0.09526808 -0.03800257]\n",
      " [ 0.35553463 -0.28968485 -0.15312311  0.33187891 -0.24460558]\n",
      " [ 0.40570137  0.37435424 -0.29750633 -0.50324034  0.02069105]\n",
      " [ 0.36153107  0.29440912 -0.37266962  0.11780861 -0.40107917]\n",
      " [-0.38176436  0.46102772  0.05967239  0.2018546  -0.34079034]]\n"
     ]
    }
   ],
   "source": [
    "arr = np.random.rand(5, 5)\n",
    "print(arr - np.mean(arr, axis=1).reshape(5,1))"
   ]
  },
  {
   "cell_type": "markdown",
   "id": "8a91342f-5643-475f-bcf4-c13f92b09523",
   "metadata": {},
   "source": [
    "5. Создайте двумерный массив 10x3, заполненный случайными числами от 0 до 1. В каждой строке выберите значение, наиболее близкое к 0.5."
   ]
  },
  {
   "cell_type": "code",
   "execution_count": 48,
   "id": "86aae4f8-3208-4ce8-9e45-6e0ffc3fcd58",
   "metadata": {},
   "outputs": [
    {
     "name": "stdout",
     "output_type": "stream",
     "text": [
      "[[0.32500489 0.73741785 0.27863184]\n",
      " [0.87022141 0.59505786 0.35760422]\n",
      " [0.90900179 0.55415758 0.08528503]\n",
      " [0.81315668 0.4428755  0.25958269]\n",
      " [0.98746616 0.71550183 0.59603849]\n",
      " [0.92670315 0.2019394  0.71372802]\n",
      " [0.87386315 0.65711583 0.52282008]\n",
      " [0.67905757 0.76436829 0.74524023]\n",
      " [0.32887384 0.28829047 0.79253626]\n",
      " [0.06432803 0.33509256 0.52763867]]\n",
      "[0.32500489 0.59505786 0.55415758 0.4428755  0.59603849 0.71372802\n",
      " 0.52282008 0.67905757 0.32887384 0.52763867]\n"
     ]
    }
   ],
   "source": [
    "arr = np.random.rand(10,3)\n",
    "print(arr)\n",
    "print(arr[np.arange(10), np.argmin(np.abs(arr - 0.5), axis=1)])"
   ]
  },
  {
   "cell_type": "markdown",
   "id": "4eda6076-7c86-491e-bf71-76c6250a0c96",
   "metadata": {},
   "source": [
    "6. Создайте двумерный массив 6x6, заполненный случайными значениями. Сумму по каждой строке поделите на максимальный элемент из столбца с тем же индексом."
   ]
  },
  {
   "cell_type": "code",
   "execution_count": 50,
   "id": "1cff0565-3617-4db8-af4d-3072ba194f65",
   "metadata": {},
   "outputs": [
    {
     "name": "stdout",
     "output_type": "stream",
     "text": [
      "[[0.00875869 0.1967461  0.2532242  0.64682216 0.23730066 0.17583908]\n",
      " [0.26731562 0.32796046 0.14468295 0.08480944 0.21463494 0.22448952]\n",
      " [0.63771486 0.24699998 0.58272212 0.27588301 0.25132532 0.98732026]\n",
      " [0.2044862  0.1040627  0.92898053 0.11850211 0.52639494 0.8242304 ]\n",
      " [0.18484845 0.07111427 0.77717145 0.39392031 0.76661417 0.24742086]\n",
      " [0.10346182 0.18195402 0.19834269 0.96066468 0.44058092 0.03512742]]\n",
      "[2.38145757 3.85379663 3.2099333  2.81748348 3.18424784 1.94479101]\n"
     ]
    }
   ],
   "source": [
    "arr = np.random.rand(6,6)\n",
    "print(arr)\n",
    "print(arr.sum(axis=1) / arr.max(axis=0))"
   ]
  },
  {
   "cell_type": "markdown",
   "id": "98a8604c-f219-42fe-a9be-d936e9f37571",
   "metadata": {},
   "source": [
    "7. На примере массива x = np.array([6, 2, 0, 3, 0, 0, 5, 7, 0]) найдите максимальный элемент в массиве среди элементов, перед которыми стоит ноль."
   ]
  },
  {
   "cell_type": "code",
   "execution_count": 52,
   "id": "2a7fe52e-1a7d-486b-a916-382f93da3e75",
   "metadata": {},
   "outputs": [
    {
     "name": "stdout",
     "output_type": "stream",
     "text": [
      "5\n"
     ]
    }
   ],
   "source": [
    "x = np.array([6, 2, 0, 3, 0, 0, 5, 7, 0])\n",
    "print(x[1:][x[:-1] == 0].max())"
   ]
  },
  {
   "cell_type": "markdown",
   "id": "dab07939-75e4-42a9-a380-98fff98eabab",
   "metadata": {},
   "source": [
    "8. Пусть заданы два массива x = np.ones(10) и i = np.array([0, 1, 2, 3, 5, 5, 5, 8]). Прибавьте единицу к тем элементам массива x, индексы которых указаны в массиве i. В случае, если некоторый индекс встретился в массиве i несколько раз, прибавьте к соответствующему элементу массива x число вхождений данного индекса в массив i."
   ]
  },
  {
   "cell_type": "code",
   "execution_count": 59,
   "id": "ab7616ac-0d74-48eb-a85a-97cf86b7047d",
   "metadata": {},
   "outputs": [
    {
     "name": "stdout",
     "output_type": "stream",
     "text": [
      "[2. 2. 2. 2. 1. 4. 1. 1. 2. 1.]\n"
     ]
    }
   ],
   "source": [
    "x = np.ones(10)\n",
    "i = np.array([0, 1, 2, 3, 5, 5, 5, 8])\n",
    "\n",
    "print(x + np.bincount(i, minlength = 10))"
   ]
  },
  {
   "cell_type": "markdown",
   "id": "988351dc-57e7-4414-b0c2-172f8ef6d6e0",
   "metadata": {},
   "source": [
    "9. Задайте два массива a = np.array([[1, 4.9, 2.4], [7.1, 7, 9.8], [2, 4.6, 1.2]]) и b = np.array([3, 5, 10, 0]). Создайте массив, в котором каждый элемент первого массива заменен на ближайший к нему элемент второго массива."
   ]
  },
  {
   "cell_type": "code",
   "execution_count": 61,
   "id": "0c7d8cbc-2934-4bc5-8570-9fcc81d89d75",
   "metadata": {},
   "outputs": [
    {
     "name": "stdout",
     "output_type": "stream",
     "text": [
      "[[ 0  5  3]\n",
      " [ 5  5 10]\n",
      " [ 3  5  0]]\n"
     ]
    }
   ],
   "source": [
    "a = np.array([[1, 4.9, 2.4], [7.1, 7, 9.8], [2, 4.6, 1.2]])\n",
    "b = np.array([3, 5, 10, 0])\n",
    "\n",
    "print(b[np.argmin(np.abs(a[:, :, None] - b), axis=2)])"
   ]
  },
  {
   "cell_type": "markdown",
   "id": "e530fc93-85ce-4b36-8044-293b5ee24622",
   "metadata": {},
   "source": [
    "10. Найдите скользящие средние с окном размера 3 по массиву a = np.array([1, 4.9, 2.4, 7.1, 7, 9.8, 2, -5, 4.6, 1.2])."
   ]
  },
  {
   "cell_type": "code",
   "execution_count": 63,
   "id": "1fa74680-07b6-4e69-9567-e9c088ad7cae",
   "metadata": {},
   "outputs": [
    {
     "name": "stdout",
     "output_type": "stream",
     "text": [
      "[2.76666667 4.8        5.5        7.96666667 6.26666667 2.26666667\n",
      " 0.53333333 0.26666667]\n"
     ]
    }
   ],
   "source": [
    "a = np.array([1, 4.9, 2.4, 7.1, 7, 9.8, 2, -5, 4.6, 1.2])\n",
    "\n",
    "print((a[:-2] + a[1:-1] + a[2:]) / 3)"
   ]
  }
 ],
 "metadata": {
  "kernelspec": {
   "display_name": "Python [conda env:base] *",
   "language": "python",
   "name": "conda-base-py"
  },
  "language_info": {
   "codemirror_mode": {
    "name": "ipython",
    "version": 3
   },
   "file_extension": ".py",
   "mimetype": "text/x-python",
   "name": "python",
   "nbconvert_exporter": "python",
   "pygments_lexer": "ipython3",
   "version": "3.13.5"
  }
 },
 "nbformat": 4,
 "nbformat_minor": 5
}
