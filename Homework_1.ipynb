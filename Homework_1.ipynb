{
 "cells": [
  {
   "cell_type": "code",
   "execution_count": 1,
   "id": "fd83d2b4-2935-4f08-b452-b8f120dfdfe8",
   "metadata": {},
   "outputs": [],
   "source": [
    "class Test:\n",
    "    @staticmethod\n",
    "    def assert_equals(a, b, *args, **kwargs):\n",
    "        assert a == b\n",
    "        print('Passed')"
   ]
  },
  {
   "cell_type": "markdown",
   "id": "fc192d59-9b54-4f97-a24c-514ffb5f35aa",
   "metadata": {},
   "source": [
    "Problem https://edabit.com/challenge/gt9LLufDCMHKMioh2 (1 point)"
   ]
  },
  {
   "cell_type": "code",
   "execution_count": 2,
   "id": "6c257b79-6f0e-4e2f-be83-a8c750a55836",
   "metadata": {},
   "outputs": [],
   "source": [
    "def stutter(word):\n",
    "\treturn 2*(word[0:2] + '... ') + word + '?'"
   ]
  },
  {
   "cell_type": "code",
   "execution_count": 3,
   "id": "b9d99256-9b42-4e6f-9999-24768b11ecde",
   "metadata": {},
   "outputs": [
    {
     "name": "stdout",
     "output_type": "stream",
     "text": [
      "Passed\n",
      "Passed\n",
      "Passed\n",
      "Passed\n",
      "Passed\n",
      "Passed\n",
      "Passed\n",
      "Passed\n",
      "Passed\n",
      "Passed\n",
      "Passed\n",
      "Passed\n",
      "Passed\n",
      "Passed\n",
      "Passed\n",
      "Passed\n",
      "Passed\n",
      "Passed\n",
      "Passed\n"
     ]
    }
   ],
   "source": [
    "actual_param, expected_param = [\n",
    "\t\"increasing\", \"adventures\", \"enticing\", \"unacceptable\", \"accountable\", \"incredible\", \"exquisite\",\n",
    "\t\"am\", \"enduring\", \"outstanding\", \"astonishing\", \"astounding\", \"impressive\", \"revolutionize\",\n",
    "\t\"recurring\", \"recollection\", \"so\", \"gorgeous\", \"captivating\"\n",
    "], [\n",
    "\t\"in... in... increasing?\", \"ad... ad... adventures?\", \"en... en... enticing?\", \"un... un... unacceptable?\",\n",
    "    \"ac... ac... accountable?\", \"in... in... incredible?\", \"ex... ex... exquisite?\", \"am... am... am?\",\n",
    "    \"en... en... enduring?\", \"ou... ou... outstanding?\", \"as... as... astonishing?\", \"as... as... astounding?\",\n",
    "    \"im... im... impressive?\", \"re... re... revolutionize?\", \"re... re... recurring?\", \"re... re... recollection?\",\n",
    "    \"so... so... so?\", \"go... go... gorgeous?\", \"ca... ca... captivating?\",\n",
    "]\n",
    "for i, w in enumerate(actual_param):\n",
    "\tTest.assert_equals(stutter(w), expected_param[i])"
   ]
  },
  {
   "cell_type": "markdown",
   "id": "9e01bded-9c68-4308-bcd2-ff2f1111c6a3",
   "metadata": {},
   "source": [
    "Problem https://edabit.com/challenge/cXnkmRdxqJrwdsP4n (1 point)"
   ]
  },
  {
   "cell_type": "code",
   "execution_count": 4,
   "id": "73d70470-31e8-4a41-9117-d2eb58903965",
   "metadata": {},
   "outputs": [],
   "source": [
    "def dis(price, discount):\n",
    "\treturn round(price * (1 - discount/100), 2)"
   ]
  },
  {
   "cell_type": "code",
   "execution_count": 5,
   "id": "6ae2eb7e-2ce6-4714-b663-5eeaf3e7510f",
   "metadata": {},
   "outputs": [
    {
     "name": "stdout",
     "output_type": "stream",
     "text": [
      "Passed\n",
      "Passed\n",
      "Passed\n",
      "Passed\n",
      "Passed\n"
     ]
    }
   ],
   "source": [
    "Test.assert_equals(dis(100, 75), 25)\n",
    "Test.assert_equals(dis(211, 50), 105.5)\n",
    "Test.assert_equals(dis(593, 61), 231.27)\n",
    "Test.assert_equals(dis(1693, 80), 338.6)\n",
    "Test.assert_equals(dis(700, 10), 630)"
   ]
  },
  {
   "cell_type": "markdown",
   "id": "bf76d252-45e5-4c6c-ab07-9a61ebb934ea",
   "metadata": {},
   "source": [
    "Problem https://edabit.com/challenge/3A3mHS5B3NNZddQL2 (3 points)"
   ]
  },
  {
   "cell_type": "code",
   "execution_count": 6,
   "id": "d7b898bd-17ce-4338-b951-dc647f4991eb",
   "metadata": {},
   "outputs": [],
   "source": [
    "def interview(lst, tot):\n",
    "\tif len(lst) == 8:\n",
    "\t\tif lst[0] <= 5 and lst [1] <= 5 and lst[2] <= 10 and lst[3] <= 10 and lst [4] <=15 and lst [5] <= 15 and lst [6] <=20 and lst [7] <= 20 and tot <= 120:\n",
    "\t\t\treturn \"qualified\"\n",
    "\t\telse:\n",
    "\t\t\treturn \"disqualified\"\n",
    "\telse:\n",
    "\t\treturn \"disqualified\""
   ]
  },
  {
   "cell_type": "code",
   "execution_count": 7,
   "id": "13b53c80-7834-4227-aa7b-5b7845d33c4f",
   "metadata": {},
   "outputs": [
    {
     "name": "stdout",
     "output_type": "stream",
     "text": [
      "Passed\n",
      "Passed\n",
      "Passed\n",
      "Passed\n",
      "Passed\n",
      "Passed\n",
      "Passed\n",
      "Passed\n",
      "Passed\n",
      "Passed\n"
     ]
    }
   ],
   "source": [
    "Test.assert_equals(interview([5, 5, 10, 10, 15, 15, 20, 20], 120), 'qualified')\n",
    "Test.assert_equals(interview([2, 3, 8, 6, 5, 12, 10, 18], 120), 'qualified')\n",
    "Test.assert_equals(interview([2, 3, 8, 6, 5, 12, 10, 18], 64), 'qualified')\n",
    "Test.assert_equals(interview([5, 5, 10, 10, 25, 15, 20, 20], 120), 'disqualified')\n",
    "Test.assert_equals(interview([5, 5, 10, 10, 15, 15, 20], 120), 'disqualified')\n",
    "Test.assert_equals(interview([5, 5, 10, 10, 15, 15, 20, 20], 130), 'disqualified')\n",
    "Test.assert_equals(interview([5, 5, 10, 10, 15, 20, 50], 160), 'disqualified')\n",
    "Test.assert_equals(interview([5, 5, 10, 10, 15, 15, 40], 120), 'disqualified')\n",
    "Test.assert_equals(interview([10, 10, 15, 15, 20, 20], 150), 'disqualified')\n",
    "Test.assert_equals(interview([5, 5, 10, 20, 15, 15, 20, 20], 140), 'disqualified')"
   ]
  },
  {
   "cell_type": "markdown",
   "id": "43824eb9-7a18-4441-9844-3e7841298cb8",
   "metadata": {},
   "source": [
    "Problem https://edabit.com/challenge/RB6iWFrCd6rXWH3vi (5 points)"
   ]
  },
  {
   "cell_type": "code",
   "execution_count": 8,
   "id": "293d13bb-adcd-4985-97f1-90c68ee45562",
   "metadata": {},
   "outputs": [],
   "source": [
    "def longest_substring(digits):\n",
    "\tmax_len = 1\n",
    "\tcur_len = 1\n",
    "\tmax_sub =digits[0]\n",
    "\tcur_sub = digits[0]\n",
    "\tfor i in range(1, len(digits)):\n",
    "\t\tif (int(digits[i])%2) != (int(digits[i-1])%2):\n",
    "\t\t\tcur_len += 1\n",
    "\t\t\tcur_sub += digits[i]\n",
    "\t\telse:\n",
    "\t\t\tcur_len = 1\n",
    "\t\t\tcur_sub = digits[i]\n",
    "\t\tif cur_len > max_len:\n",
    "\t\t\tmax_len = cur_len\n",
    "\t\t\tmax_sub = cur_sub\n",
    "\treturn max_sub\n",
    "\t\t\t"
   ]
  },
  {
   "cell_type": "code",
   "execution_count": 9,
   "id": "b3822f51-7b48-4b94-9d07-d7e9ba303852",
   "metadata": {},
   "outputs": [
    {
     "name": "stdout",
     "output_type": "stream",
     "text": [
      "Passed\n",
      "Passed\n",
      "Passed\n",
      "Passed\n",
      "Passed\n",
      "Passed\n",
      "Passed\n",
      "Passed\n",
      "Passed\n",
      "Passed\n",
      "Passed\n",
      "Passed\n",
      "Passed\n",
      "Passed\n",
      "Passed\n",
      "Passed\n",
      "Passed\n",
      "Passed\n",
      "Passed\n",
      "Passed\n",
      "Passed\n"
     ]
    }
   ],
   "source": [
    "Test.assert_equals(longest_substring(\"844929328912985315632725682153\"), \"56327256\")\n",
    "Test.assert_equals(longest_substring(\"769697538272129475593767931733\"), \"27212947\")\n",
    "Test.assert_equals(longest_substring(\"937948289456111258444958189244\"), \"894561\")\n",
    "Test.assert_equals(longest_substring(\"736237766362158694825822899262\"), \"636\")\n",
    "Test.assert_equals(longest_substring(\"369715978955362655737322836233\"), \"369\")\n",
    "Test.assert_equals(longest_substring(\"345724969853525333273796592356\"), \"496985\")\n",
    "Test.assert_equals(longest_substring(\"548915548581127334254139969136\"), \"8581\")\n",
    "Test.assert_equals(longest_substring(\"417922164857852157775176959188\"), \"78521\")\n",
    "Test.assert_equals(longest_substring(\"251346385699223913113161144327\"), \"638569\")\n",
    "Test.assert_equals(longest_substring(\"483563951878576456268539849244\"), \"18785\")\n",
    "Test.assert_equals(longest_substring(\"853667717122615664748443484823\"), \"474\")\n",
    "Test.assert_equals(longest_substring(\"398785511683322662883368457392\"), \"98785\")\n",
    "Test.assert_equals(longest_substring(\"368293545763611759335443678239\"), \"76361\")\n",
    "Test.assert_equals(longest_substring(\"775195358448494712934755311372\"), \"4947\")\n",
    "Test.assert_equals(longest_substring(\"646113733929969155976523363762\"), \"76523\")\n",
    "Test.assert_equals(longest_substring(\"575337321726324966478369152265\"), \"478369\")\n",
    "Test.assert_equals(longest_substring(\"754388489999793138912431545258\"), \"545258\")\n",
    "Test.assert_equals(longest_substring(\"198644286258141856918653955964\"), \"2581418569\")\n",
    "Test.assert_equals(longest_substring(\"643349187319779695864213682274\"), \"349\")\n",
    "Test.assert_equals(longest_substring(\"919331281193713636178478295857\"), \"36361\")\n",
    "Test.assert_equals(longest_substring(\"2846286484444288886666448822244466688822247\"), \"47\")"
   ]
  },
  {
   "cell_type": "markdown",
   "id": "c8121a93-9ed4-435a-a8ad-286e43aec64e",
   "metadata": {},
   "source": [
    "Problem https://edabit.com/challenge/i7TaDyRQQZCY3g2JG (5 points)"
   ]
  },
  {
   "cell_type": "code",
   "execution_count": 14,
   "id": "8ab9156b-16d7-4482-8661-bd03bc2ef46a",
   "metadata": {},
   "outputs": [],
   "source": [
    "def nod(a, b):\n",
    "\tx, y = a, b\n",
    "\twhile x > 0 and y > 0:\n",
    "\t\tif x >= y:\n",
    "\t\t\tx = x % y\n",
    "\t\telse:\n",
    "\t\t\ty = y % x\n",
    "\treturn x + y \n",
    "\n",
    "def nok(a, b):\n",
    "\treturn a*b / nod(a, b)\n",
    "\t\n",
    "def lcm(nums):\n",
    "\tlcm = 1\n",
    "\tfor num in nums:\n",
    "\t\tlcm = nok(lcm, num)\n",
    "\treturn lcm"
   ]
  },
  {
   "cell_type": "code",
   "execution_count": 15,
   "id": "2cecf65b-04cf-44c3-849d-c6807a577950",
   "metadata": {},
   "outputs": [
    {
     "name": "stdout",
     "output_type": "stream",
     "text": [
      "Passed\n",
      "Passed\n",
      "Passed\n",
      "Passed\n",
      "Passed\n",
      "Passed\n",
      "Passed\n"
     ]
    }
   ],
   "source": [
    "Test.assert_equals(lcm([1]), 1)\n",
    "Test.assert_equals(lcm([5, 5, 5]), 5)\n",
    "Test.assert_equals(lcm([67, 34, 12, 3, 2]), 13668)\n",
    "Test.assert_equals(lcm([79, 18, 7, 3, 1]), 9954)\n",
    "Test.assert_equals(lcm([10, 20, 30, 40, 50]), 600)\n",
    "Test.assert_equals(lcm([2, 3, 5, 7, 11, 13, 17]), 510510)\n",
    "Test.assert_equals(lcm([91, 92, 93, 94, 95]), 3476431140)"
   ]
  },
  {
   "cell_type": "code",
   "execution_count": null,
   "id": "6d9b7a32-4809-4c88-b55a-26c453be5464",
   "metadata": {},
   "outputs": [],
   "source": []
  }
 ],
 "metadata": {
  "kernelspec": {
   "display_name": "Python [conda env:base] *",
   "language": "python",
   "name": "conda-base-py"
  },
  "language_info": {
   "codemirror_mode": {
    "name": "ipython",
    "version": 3
   },
   "file_extension": ".py",
   "mimetype": "text/x-python",
   "name": "python",
   "nbconvert_exporter": "python",
   "pygments_lexer": "ipython3",
   "version": "3.13.5"
  }
 },
 "nbformat": 4,
 "nbformat_minor": 5
}
